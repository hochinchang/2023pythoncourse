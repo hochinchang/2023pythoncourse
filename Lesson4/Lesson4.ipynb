{
 "cells": [
  {
   "cell_type": "code",
   "execution_count": null,
   "id": "88d15133",
   "metadata": {},
   "outputs": [],
   "source": [
    "from PIL import Image\n",
    "import numpy as np\n",
    "import pyresample as pr"
   ]
  },
  {
   "cell_type": "markdown",
   "id": "bc61df0e",
   "metadata": {},
   "source": [
    "# 本堂課程：雲圖投影設定\n",
    "## 需用到pyresmaple\n",
    "處理的流程如下：\n",
    "1. 設定轉換前的投影方式及轉換後的投影方式。\n",
    "2. 進行投影轉換，輸入cntS(轉換前）轉換成cnt（轉換後）,cntS和cnt均為numpy的物件。\n",
    "3. 把轉換後的cnt轉換成PIL的物件。\n",
    "4. SHOW！\n"
   ]
  },
  {
   "cell_type": "code",
   "execution_count": null,
   "id": "ba295539",
   "metadata": {},
   "outputs": [],
   "source": [
    "Source_def = pr.load_area('../Table/Projection.proj','KoChi_1800') # 原始FDK資料的投影\n",
    "Image_def = pr.load_area('../Table/Projection.proj','LCC_1000')  # 輸出圖檔的投影"
   ]
  },
  {
   "cell_type": "markdown",
   "id": "2b37c758",
   "metadata": {},
   "source": [
    "## 讀取IR1的檔案，讀檔方法參考Lesson2"
   ]
  },
  {
   "cell_type": "code",
   "execution_count": null,
   "id": "78cdea37",
   "metadata": {},
   "outputs": [],
   "source": [
    "PGMIR1='HMW821070100IR1.pgm'\n",
    "cntS = np.fromfile(PGMIR1,dtype='uint8')\n",
    "dsize=1800\n",
    "arraysize=dsize*dsize\n",
    "cntS = cntS[-arraysize:]\n",
    "cntS = cntS.reshape((dsize,dsize))"
   ]
  },
  {
   "cell_type": "code",
   "execution_count": null,
   "id": "20523e1f",
   "metadata": {},
   "outputs": [],
   "source": [
    "RoI = 5000 # 取樣之影響半徑\n",
    "Cnt = pr.kd_tree.resample_nearest(Source_def, cntS, Image_def, radius_of_influence=RoI)\n",
    "Img = Image.fromarray(Cnt,'L') #　轉成圖檔(灰階)\n",
    "Img.show()"
   ]
  },
  {
   "cell_type": "markdown",
   "id": "3e2425f9",
   "metadata": {},
   "source": [
    "# 本堂課程實做\n",
    "- 嘗試不同的投影方式。\n",
    "- 把IR1和IR2都轉換成LCC_1000，再合併成一張RGB圖。"
   ]
  },
  {
   "cell_type": "code",
   "execution_count": null,
   "id": "bb2bfa30",
   "metadata": {},
   "outputs": [],
   "source": []
  }
 ],
 "metadata": {
  "kernelspec": {
   "display_name": "Python 3 (ipykernel)",
   "language": "python",
   "name": "python3"
  },
  "language_info": {
   "codemirror_mode": {
    "name": "ipython",
    "version": 3
   },
   "file_extension": ".py",
   "mimetype": "text/x-python",
   "name": "python",
   "nbconvert_exporter": "python",
   "pygments_lexer": "ipython3",
   "version": "3.11.3"
  }
 },
 "nbformat": 4,
 "nbformat_minor": 5
}
