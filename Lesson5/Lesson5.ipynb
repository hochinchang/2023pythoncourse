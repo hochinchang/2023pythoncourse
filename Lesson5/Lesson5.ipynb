{
 "cells": [
  {
   "cell_type": "code",
   "execution_count": null,
   "id": "e15b41f2",
   "metadata": {},
   "outputs": [],
   "source": [
    "from PIL import Image\n",
    "import numpy as np\n",
    "import pyresample as pr\n",
    "from pycoast import ContourWriterAGG\n",
    "import aggdraw"
   ]
  },
  {
   "cell_type": "markdown",
   "id": "3c4c6d95",
   "metadata": {},
   "source": [
    "# 本堂課程：雲圖投影設定\n",
    "## 需用到pyresmaple、pycoast、aggdraw\n",
    "## 需使用Projection.proj、gshhg-shp-2.3.7、LiberationMono-Reqular.tif\n",
    "gshhg-shp-2.3.7 http://www.soest.hawaii.edu/wessel/gshhg/ </br>\n",
    "LiberationMono-Reqular.tif https://www.dafont.com/liberation-mono.font\n",
    "\n",
    "處理的流程如下：\n",
    "1. 沿續Lesson4的程式。\n",
    "2. 設定ShapePath和ttfFile等位置。\n",
    "3. add_coastlines\n",
    "4. add_grid\n",
    "4. SHOW！"
   ]
  },
  {
   "cell_type": "code",
   "execution_count": null,
   "id": "839afea5",
   "metadata": {},
   "outputs": [],
   "source": [
    "Source_def = pr.load_area('../Table/Projection.proj','KoChi_1800') # 原始FDK資料的投影\n",
    "Image_def = pr.load_area('../Table/Projection.proj','LCC_1000')  # 輸出圖檔的投影"
   ]
  },
  {
   "cell_type": "code",
   "execution_count": null,
   "id": "ec3579a3",
   "metadata": {},
   "outputs": [],
   "source": [
    "PGMIR1='HMW821070100IR1.pgm'\n",
    "cntS = np.fromfile(PGMIR1,dtype='uint8')\n",
    "dsize=1800\n",
    "arraysize=dsize*dsize\n",
    "cntS = cntS[-arraysize:]\n",
    "cntS = cntS.reshape((dsize,dsize))"
   ]
  },
  {
   "cell_type": "code",
   "execution_count": null,
   "id": "65c73632",
   "metadata": {},
   "outputs": [],
   "source": [
    "RoI = 5000 # 取樣之影響半徑\n",
    "Cnt = pr.kd_tree.resample_nearest(Source_def, cntS, Image_def, radius_of_influence=RoI)\n",
    "Img = Image.fromarray(Cnt,'L')"
   ]
  },
  {
   "cell_type": "code",
   "execution_count": null,
   "id": "3fccdb31",
   "metadata": {},
   "outputs": [],
   "source": [
    "ShapePath = '../Table/gshhg-shp-2.3.7'\n",
    "cw = ContourWriterAGG(ShapePath)\n",
    "cw.add_coastlines(Img,Image_def,resolution='l',outline=(255,0,0),width=2)\n",
    "ttfFile = '../Table/LiberationMono-Regular.ttf'\n",
    "font = aggdraw.Font('white',ttfFile)\n",
    "cw.add_grid(Img,Image_def,(20,20),(10,10),font,outline=(0,0,255),width=3)\n",
    "Img.show()"
   ]
  },
  {
   "cell_type": "markdown",
   "id": "0ff3c188",
   "metadata": {},
   "source": [
    "# 本堂課程實做\n",
    "- 把IR1和IR2都轉換成LCC範圍，合成一張RGB雲圖。\n",
    "- 用上述方法把海岸線及經緯線疊加上去。\n",
    "- 嘗試修改海岸線及經緯線修改顏色，粗細及字體大小，讓整張圖好看。"
   ]
  },
  {
   "cell_type": "code",
   "execution_count": null,
   "id": "00985d1e",
   "metadata": {},
   "outputs": [],
   "source": []
  }
 ],
 "metadata": {
  "kernelspec": {
   "display_name": "Python 3 (ipykernel)",
   "language": "python",
   "name": "python3"
  },
  "language_info": {
   "codemirror_mode": {
    "name": "ipython",
    "version": 3
   },
   "file_extension": ".py",
   "mimetype": "text/x-python",
   "name": "python",
   "nbconvert_exporter": "python",
   "pygments_lexer": "ipython3",
   "version": "3.11.3"
  }
 },
 "nbformat": 4,
 "nbformat_minor": 5
}
