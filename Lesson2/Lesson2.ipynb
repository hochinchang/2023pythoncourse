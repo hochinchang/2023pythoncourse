{
 "cells": [
  {
   "cell_type": "code",
   "execution_count": 1,
   "id": "d35d345a",
   "metadata": {},
   "outputs": [],
   "source": [
    "from PIL import Image\n",
    "import numpy as np"
   ]
  },
  {
   "cell_type": "markdown",
   "id": "5ecd41cf",
   "metadata": {},
   "source": [
    "# 本堂課程：讀取PGM檔並繪製衛星雲圖\n",
    "## 下載資料\n",
    "+ 日本高知大學衛星資料庫 http://weather.is.kochi-u.ac.jp/archive-e.html\n",
    "+ 選取檔案格式為Geo-coordinate mapped data for GAME research area. N70 - S20, E70 - E160. 1/20 degree resolution. 1800 x 1800 pixels. PGM (Portable Gray Map) format with Gzip compression.的資料。\n",
    "+ 下載一個紅外線頻道IR1的資料。\n"
   ]
  },
  {
   "cell_type": "code",
   "execution_count": 2,
   "id": "7f23c5a1",
   "metadata": {},
   "outputs": [],
   "source": [
    "PGMFile='HMW821070100IR1.pgm'"
   ]
  },
  {
   "cell_type": "markdown",
   "id": "abbeba6f",
   "metadata": {},
   "source": [
    "# 讀檔的方式有兩種\n",
    "## 1. 使用PIL讀取PGM檔\n",
    "+ 若要進行運算，必須先轉成numpy的物件進行處理，再轉回PIL的物件把圖輸出。"
   ]
  },
  {
   "cell_type": "code",
   "execution_count": 4,
   "id": "7e4915ab",
   "metadata": {},
   "outputs": [],
   "source": [
    "imgS = Image.open(PGMFile)  \n",
    "imgS.show()"
   ]
  },
  {
   "cell_type": "markdown",
   "id": "f5dc7e45",
   "metadata": {},
   "source": [
    "## 2. 使用numpy讀取數據\n",
    "+ 讀入檔案後必須先把檔頭去掉，剩下的數據才是像素的資訊。\n",
    "+ 處理完之後再轉成PIL的圖像物件。"
   ]
  },
  {
   "cell_type": "code",
   "execution_count": 5,
   "id": "28135e2d",
   "metadata": {},
   "outputs": [],
   "source": [
    "cntS = np.fromfile(PGMFile,dtype='uint8')"
   ]
  },
  {
   "cell_type": "code",
   "execution_count": 6,
   "id": "1a0bfeea",
   "metadata": {},
   "outputs": [],
   "source": [
    "dsize=1800\n",
    "arraysize=dsize*dsize\n",
    "cntS = cntS[-arraysize:]\n",
    "cntS = cntS.reshape((dsize,dsize))\n",
    "ImageS = Image.fromarray(cntS,'L')\n",
    "ImageS.show()\n",
    "ImageS.save('ImageS.jpg')"
   ]
  },
  {
   "cell_type": "markdown",
   "id": "e9f5a01c",
   "metadata": {},
   "source": [
    "# 本堂課程實做\n",
    "- 從高知大學的網站下載某一時間的可見光（VIS）、紅外線（IR1, IR2, IR4) 、水氣頻道(IR3)資料，用上述方法轉換成圖檔。然後比較其差異。"
   ]
  },
  {
   "cell_type": "code",
   "execution_count": null,
   "id": "d384ecca",
   "metadata": {},
   "outputs": [],
   "source": []
  }
 ],
 "metadata": {
  "kernelspec": {
   "display_name": "Python 3 (ipykernel)",
   "language": "python",
   "name": "python3"
  },
  "language_info": {
   "codemirror_mode": {
    "name": "ipython",
    "version": 3
   },
   "file_extension": ".py",
   "mimetype": "text/x-python",
   "name": "python",
   "nbconvert_exporter": "python",
   "pygments_lexer": "ipython3",
   "version": "3.11.3"
  }
 },
 "nbformat": 4,
 "nbformat_minor": 5
}
