{
 "cells": [
  {
   "cell_type": "code",
   "execution_count": 17,
   "id": "1f6a28d0",
   "metadata": {},
   "outputs": [],
   "source": [
    "from PIL import Image\n",
    "import numpy as np"
   ]
  },
  {
   "attachments": {
    "Anya.jpg": {
     "image/jpeg": "[encoded data removed]"
    }
   },
   "cell_type": "markdown",
   "id": "dc2482c5",
   "metadata": {},
   "source": [
    "有一張阿尼亞的圖片\n",
    "![Anya.jpg](attachment:Anya.jpg)\n",
    "讀入這張圖<br>\n",
    "經過一些修改<br>\n",
    "再輸出這張圖<br>"
   ]
  },
  {
   "cell_type": "code",
   "execution_count": 18,
   "id": "d1601f4a",
   "metadata": {},
   "outputs": [],
   "source": [
    "file = 'Anya.jpg'\n",
    "im = Image.open(file) #讀取圖片檔案\n",
    "im.show() # 顯示圖形"
   ]
  },
  {
   "cell_type": "markdown",
   "id": "874b6af1",
   "metadata": {},
   "source": [
    "# PIL套件用法\n",
    "\n",
    "## from PIL import Image\n",
    "+ im0 = Image.open(檔名)開啟圖檔\n",
    "+ im2 = im0.resize((500,500))   改變圖檔大小\n",
    "+ im3 = im2.rotate(45)          旋轉\n",
    "+ im3.show()                    顯示圖檔\n",
    "+ im3.save(儲存之圖檔名稱)      儲存\n",
    "\n",
    "\n",
    "+ box  =  (100,100,500,500)  # 設定區域 \n",
    "+ copy = im.crop(box)           # 複製圖像\n",
    "+ im3.paste(copy,box)           # 貼上圖像\n",
    "+ im3.paste(copy,(5,5))          # 貼上起始位置(5,5)\n",
    "\n",
    "## 影像色彩模式轉換\n",
    "+ im3 = im.convert(‘L’)        轉為灰階圖\n",
    "+ im3 = im.convert(‘RGB’)  轉為RGB彩色圖\n",
    "\n",
    "## 與numpy的相互轉換\n",
    "+ data = np.array(im)\n",
    "+ Im = Image.fromarray(data,’RGB’)\n",
    "  + data的變數型態必須為np.uint8"
   ]
  },
  {
   "cell_type": "code",
   "execution_count": 19,
   "id": "f22b977b",
   "metadata": {},
   "outputs": [],
   "source": [
    "r,g,b = im.split() # 影像RGB圖層分割\n",
    "r.show()\n",
    "#g.show()\n",
    "#b.show()"
   ]
  },
  {
   "cell_type": "code",
   "execution_count": 20,
   "id": "21e0472d",
   "metadata": {},
   "outputs": [],
   "source": [
    "im2 = Image.merge('RGB',(b,g,r))\n",
    "im2.show()"
   ]
  },
  {
   "cell_type": "code",
   "execution_count": 22,
   "id": "e9c205c6",
   "metadata": {},
   "outputs": [],
   "source": [
    "#r_data = np.array(r/2)\n",
    "r_data = np.array(r)\n",
    "r_data =\n",
    "r_new  = Image.fromarray(r_data,'L')\n",
    "im2    = Image.merge('RGB',(r_new,g,b))\n",
    "im2.show()\n",
    "#im2.save('NewImage.jpg')"
   ]
  },
  {
   "cell_type": "markdown",
   "id": "e188cdf9",
   "metadata": {},
   "source": [
    "# 本堂課實做\n",
    "從氣象局官網下載一張衛星雲圖，後讀進來，做一些處理，寫出去。"
   ]
  },
  {
   "cell_type": "code",
   "execution_count": null,
   "id": "63f3026c",
   "metadata": {},
   "outputs": [],
   "source": []
  }
 ],
 "metadata": {
  "kernelspec": {
   "display_name": "Python 3 (ipykernel)",
   "language": "python",
   "name": "python3"
  },
  "language_info": {
   "codemirror_mode": {
    "name": "ipython",
    "version": 3
   },
   "file_extension": ".py",
   "mimetype": "text/x-python",
   "name": "python",
   "nbconvert_exporter": "python",
   "pygments_lexer": "ipython3",
   "version": "3.11.3"
  }
 },
 "nbformat": 4,
 "nbformat_minor": 5
}
