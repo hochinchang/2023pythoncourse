{
 "cells": [
  {
   "cell_type": "markdown",
   "id": "c1305db6",
   "metadata": {},
   "source": [
    "# Python基本語法\n",
    "## 數學"
   ]
  },
  {
   "cell_type": "code",
   "execution_count": null,
   "id": "e88f613f",
   "metadata": {},
   "outputs": [],
   "source": [
    "3+9"
   ]
  },
  {
   "cell_type": "code",
   "execution_count": null,
   "id": "1d53b14f",
   "metadata": {},
   "outputs": [],
   "source": [
    "a=5*7\n",
    "b=6**2\n",
    "c=a+3\n",
    "a,b,c"
   ]
  },
  {
   "cell_type": "code",
   "execution_count": null,
   "id": "1ace085b",
   "metadata": {},
   "outputs": [],
   "source": [
    "5%3"
   ]
  },
  {
   "cell_type": "code",
   "execution_count": null,
   "id": "82c0b57c",
   "metadata": {},
   "outputs": [],
   "source": [
    "5*3-2*5"
   ]
  },
  {
   "cell_type": "markdown",
   "id": "637a7499",
   "metadata": {},
   "source": [
    "## 螢幕輸出"
   ]
  },
  {
   "cell_type": "code",
   "execution_count": null,
   "id": "f401f4f8",
   "metadata": {},
   "outputs": [],
   "source": [
    "print('Hello World')"
   ]
  },
  {
   "cell_type": "markdown",
   "id": "048649fb",
   "metadata": {},
   "source": [
    "## 文字"
   ]
  },
  {
   "cell_type": "code",
   "execution_count": null,
   "id": "6d40693e",
   "metadata": {},
   "outputs": [],
   "source": [
    "str = 'Akey have a key.'\n",
    "print(str[1])\n",
    "print(str[1:3])"
   ]
  },
  {
   "cell_type": "code",
   "execution_count": null,
   "id": "c5e6acb2",
   "metadata": {},
   "outputs": [],
   "source": [
    "print(str.find('k'))\n",
    "print(str.rfind('k'))"
   ]
  },
  {
   "cell_type": "code",
   "execution_count": null,
   "id": "9f238299",
   "metadata": {},
   "outputs": [],
   "source": [
    "print(str.index('k'))\n",
    "print(str.rindex('k'))"
   ]
  },
  {
   "cell_type": "code",
   "execution_count": null,
   "id": "725620b6",
   "metadata": {},
   "outputs": [],
   "source": [
    "print(str.count('k'))\n",
    "print(str.split())"
   ]
  },
  {
   "cell_type": "code",
   "execution_count": null,
   "id": "d6ee45bd",
   "metadata": {},
   "outputs": [],
   "source": [
    "str = str + 'Great!'\n",
    "print(str)"
   ]
  },
  {
   "cell_type": "markdown",
   "id": "68a21a83",
   "metadata": {},
   "source": [
    "## 變數資訊"
   ]
  },
  {
   "cell_type": "code",
   "execution_count": null,
   "id": "c9a66c54",
   "metadata": {},
   "outputs": [],
   "source": [
    "print(len(str))\n",
    "print(type(str))\n",
    "print(dir(str))"
   ]
  },
  {
   "cell_type": "markdown",
   "id": "9ba56410",
   "metadata": {},
   "source": [
    "## 列表 (list)"
   ]
  },
  {
   "cell_type": "code",
   "execution_count": null,
   "id": "380f2534",
   "metadata": {},
   "outputs": [],
   "source": [
    "L = ['a','b','c',1,2]\n",
    "print(L[1:3])"
   ]
  },
  {
   "cell_type": "code",
   "execution_count": null,
   "id": "b7e7c4de",
   "metadata": {},
   "outputs": [],
   "source": [
    "L + [4,5,6]"
   ]
  },
  {
   "cell_type": "code",
   "execution_count": null,
   "id": "4dda8548",
   "metadata": {},
   "outputs": [],
   "source": [
    "L.append('M')\n",
    "L"
   ]
  },
  {
   "cell_type": "code",
   "execution_count": null,
   "id": "c8b95b86",
   "metadata": {},
   "outputs": [],
   "source": [
    "L.extend([9,8,7])\n",
    "L"
   ]
  },
  {
   "cell_type": "code",
   "execution_count": null,
   "id": "b01539dd",
   "metadata": {},
   "outputs": [],
   "source": [
    "L.index('c')"
   ]
  },
  {
   "cell_type": "code",
   "execution_count": null,
   "id": "f9d71d94",
   "metadata": {},
   "outputs": [],
   "source": [
    "L.remove('c')\n",
    "L"
   ]
  },
  {
   "cell_type": "code",
   "execution_count": null,
   "id": "74274f6f",
   "metadata": {},
   "outputs": [],
   "source": [
    "del L[5]\n",
    "L"
   ]
  },
  {
   "cell_type": "markdown",
   "id": "894a92e1",
   "metadata": {},
   "source": [
    "## 迴圈"
   ]
  },
  {
   "cell_type": "code",
   "execution_count": null,
   "id": "2db95646",
   "metadata": {},
   "outputs": [],
   "source": [
    "for i in range(10):\n",
    "    print(i)"
   ]
  },
  {
   "cell_type": "code",
   "execution_count": null,
   "id": "23980e93",
   "metadata": {},
   "outputs": [],
   "source": [
    "for x in 'akey':\n",
    "    print(x)\n"
   ]
  },
  {
   "cell_type": "markdown",
   "id": "e3dcce9a",
   "metadata": {},
   "source": [
    "## 邏輯判斷式"
   ]
  },
  {
   "cell_type": "code",
   "execution_count": null,
   "id": "57611e85",
   "metadata": {},
   "outputs": [],
   "source": [
    "n = 5\n",
    "if n > 0:\n",
    "    print('bigger then zero')\n",
    "elif n == 0:\n",
    "    print('n is zero')\n",
    "else :\n",
    "    print ('small then zero')"
   ]
  },
  {
   "cell_type": "markdown",
   "id": "f87ed8e3",
   "metadata": {},
   "source": [
    "## 檔案處理\n",
    "###  寫入"
   ]
  },
  {
   "cell_type": "code",
   "execution_count": null,
   "id": "d8dacc18",
   "metadata": {},
   "outputs": [],
   "source": [
    "f = open('data.txt','w') \n",
    "f.write('HelloWorld')\n",
    "f.close()"
   ]
  },
  {
   "cell_type": "markdown",
   "id": "d9a181b4",
   "metadata": {},
   "source": [
    "### 讀取"
   ]
  },
  {
   "cell_type": "code",
   "execution_count": null,
   "id": "e3f512e3",
   "metadata": {},
   "outputs": [],
   "source": [
    "f = open('data.txt','r') \n",
    "text = f.read()\n",
    "f.close()\n",
    "print(text)"
   ]
  },
  {
   "cell_type": "markdown",
   "id": "94d93a0a",
   "metadata": {},
   "source": [
    "## 呼叫套件"
   ]
  },
  {
   "cell_type": "code",
   "execution_count": null,
   "id": "42abd4cf",
   "metadata": {},
   "outputs": [],
   "source": [
    "import sys\n",
    "import os\n",
    "import math\n",
    "import numpy as np\n",
    "from PIL import Image"
   ]
  },
  {
   "cell_type": "markdown",
   "id": "4f99b0e5",
   "metadata": {},
   "source": [
    "# 線上學習python\n",
    "+ [W3School Python Tutorial](https://www.w3schools.com/python/default.asp)\n",
    "+ [W3School NumPy Tutorial](https://www.w3schools.com/python/numpy/default.asp)\n",
    "\n",
    "# Markdown的使用\n",
    "+ [如何溝通資料：輕量級標記式語言](https://medium.com/datainpoint/communicating-md-e53a08e6652f)"
   ]
  },
  {
   "cell_type": "code",
   "execution_count": null,
   "id": "746fddba",
   "metadata": {},
   "outputs": [],
   "source": []
  },
  {
   "cell_type": "code",
   "execution_count": null,
   "id": "9989f724",
   "metadata": {},
   "outputs": [],
   "source": []
  }
 ],
 "metadata": {
  "kernelspec": {
   "display_name": "Python 3 (ipykernel)",
   "language": "python",
   "name": "python3"
  },
  "language_info": {
   "codemirror_mode": {
    "name": "ipython",
    "version": 3
   },
   "file_extension": ".py",
   "mimetype": "text/x-python",
   "name": "python",
   "nbconvert_exporter": "python",
   "pygments_lexer": "ipython3",
   "version": "3.11.3"
  }
 },
 "nbformat": 4,
 "nbformat_minor": 5
}
