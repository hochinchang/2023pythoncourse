{
 "cells": [
  {
   "cell_type": "code",
   "execution_count": 99,
   "id": "351897fe-60f6-4d79-9b96-9bcf622c020a",
   "metadata": {
    "scrolled": true
   },
   "outputs": [],
   "source": [
    "from PIL import Image\n",
    "import numpy as np\n",
    "import pyresample as pr\n",
    "from pycoast import ContourWriterAGG\n",
    "import aggdraw\n",
    "import pyproj"
   ]
  },
  {
   "cell_type": "code",
   "execution_count": 100,
   "id": "3b02d7f3-da74-4f4a-8631-a63e6ce0107d",
   "metadata": {},
   "outputs": [],
   "source": [
    "PNGFILE='lccn_TRGB_20210401_0230.png'\n",
    "imgS = Image.open(PNGFILE) "
   ]
  },
  {
   "cell_type": "code",
   "execution_count": 101,
   "id": "5ba97e6f-4959-4ea1-8f88-050fc3ce4d49",
   "metadata": {},
   "outputs": [],
   "source": [
    "CntR,CntG,CntB=np.array(imgS.split())"
   ]
  },
  {
   "cell_type": "code",
   "execution_count": 124,
   "id": "e70e4a50-9a78-4125-8d6f-85e9f434192e",
   "metadata": {},
   "outputs": [],
   "source": [
    "area_id='LCC'\n",
    "description='Plot LCC RGB file'\n",
    "proj_id='lcc'\n",
    "width=3000\n",
    "height=3000\n",
    "proj_args_lcc=\" +proj=lcc +lat_0=10. +lat_1=30. +lat_2=60. +lon_0=128.5 +x_0=0 +y_0=0 +ellps=WGS84 +datum=WGS84\"\n",
    "prj=pyproj.Proj(proj_args_lcc)\n",
    "([x1,x2],[y1,y2])=prj([102.,155.],[-1.,48.])\n",
    "area_extent_lcc=(x1,y1,x2,y2)\n",
    "\n",
    "Source_def = pr.AreaDefinition(area_id, description, proj_id, proj_args_lcc,width,height,area_extent_lcc)\n",
    "Image_def = pr.load_area('../Table/Projection.proj','TW_800')  # 輸出圖檔的投影"
   ]
  },
  {
   "cell_type": "code",
   "execution_count": 125,
   "id": "57d46cdd-f2f6-407d-85f8-d008f17446f6",
   "metadata": {},
   "outputs": [],
   "source": [
    "def lcc2img(CntS,Source_def,Image_def):\n",
    "    RoI = 5000 # 取樣之影響半徑\n",
    "    Cnt = pr.kd_tree.resample_nearest(Source_def, CntS, Image_def, radius_of_influence=RoI)\n",
    "    Img = Image.fromarray(Cnt,'L') #　轉成圖檔(灰階)\n",
    "    return Img"
   ]
  },
  {
   "cell_type": "code",
   "execution_count": 126,
   "id": "15f125b3-5dbb-436f-ad54-dba3af734289",
   "metadata": {},
   "outputs": [],
   "source": [
    "imgR=lcc2img(CntR,Source_def,Image_def)\n",
    "imgG=lcc2img(CntG,Source_def,Image_def)\n",
    "imgB=lcc2img(CntB,Source_def,Image_def)\n",
    "\n"
   ]
  },
  {
   "cell_type": "code",
   "execution_count": 127,
   "id": "607fac93-d2b9-41f2-bf5a-d2807d4f0a90",
   "metadata": {
    "scrolled": true
   },
   "outputs": [],
   "source": [
    "img=Image.merge('RGB',(imgR,imgG,imgB))\n",
    "ShapePath = '../Table/gshhg-shp-2.3.7'\n",
    "cw = ContourWriterAGG(ShapePath)\n",
    "#cw.add_coastlines(img,Image_def,resolution='l',outline=(255,0,0),width=2)\n",
    "cw.add_coastlines(img,Image_def,resolution='h',outline=(255,0,0),width=2)\n",
    "ttfFile = '../Table/LiberationMono-Regular.ttf'\n",
    "font = aggdraw.Font('white',ttfFile)\n",
    "cw.add_grid(img,Image_def,(20,20),(10,10),font,outline=(0,0,255),width=3)\n",
    "img.show()"
   ]
  },
  {
   "cell_type": "code",
   "execution_count": null,
   "id": "010c6965-19ff-4ee1-b3a9-0e9772978ca6",
   "metadata": {},
   "outputs": [],
   "source": []
  },
  {
   "cell_type": "code",
   "execution_count": null,
   "id": "c73c7f5a-4fd0-4a2a-80e6-a949c1add759",
   "metadata": {},
   "outputs": [],
   "source": []
  }
 ],
 "metadata": {
  "kernelspec": {
   "display_name": "Python 3 (ipykernel)",
   "language": "python",
   "name": "python3"
  },
  "language_info": {
   "codemirror_mode": {
    "name": "ipython",
    "version": 3
   },
   "file_extension": ".py",
   "mimetype": "text/x-python",
   "name": "python",
   "nbconvert_exporter": "python",
   "pygments_lexer": "ipython3",
   "version": "3.11.4"
  }
 },
 "nbformat": 4,
 "nbformat_minor": 5
}
