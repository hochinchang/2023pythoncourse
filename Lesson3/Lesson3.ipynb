{
 "cells": [
  {
   "cell_type": "code",
   "execution_count": null,
   "id": "ba51b10b",
   "metadata": {},
   "outputs": [],
   "source": [
    "from PIL import Image\n",
    "import numpy as np"
   ]
  },
  {
   "cell_type": "markdown",
   "id": "f371ad93",
   "metadata": {},
   "source": [
    "# 本堂課程：使用2種衛星頻道，製作RGB合成雲圖\n",
    "## 下載資料\n",
    "+ 日本高知大學衛星資料庫 http://weather.is.kochi-u.ac.jp/archive-e.html\n",
    "+ 選取檔案格式為Geo-coordinate mapped data for GAME research area. N70 - S20, E70 - E160. 1/20 degree resolution. 1800 x 1800 pixels. PGM (Portable Gray Map) format with Gzip compression.的資料。\n",
    "+ 下載紅外線頻道IR1和IR2的資料，時間必須相同。\n",
    "\n"
   ]
  },
  {
   "cell_type": "code",
   "execution_count": null,
   "id": "d598e339",
   "metadata": {},
   "outputs": [],
   "source": [
    "PGMIR1='HMW821070100IR1.pgm'\n",
    "PGMIR2='HMW821070100IR2.pgm'"
   ]
  },
  {
   "cell_type": "markdown",
   "id": "8d080f4b",
   "metadata": {},
   "source": [
    "## 1. 使用PIL讀取PGM檔\n",
    "+ 使用PIL分別謮取兩個頻道的檔案\n",
    "+ 使用merge指令，合成RGB的彩色圖"
   ]
  },
  {
   "cell_type": "code",
   "execution_count": null,
   "id": "ab666ab5",
   "metadata": {},
   "outputs": [],
   "source": [
    "imgIR1 = Image.open(PGMIR1) \n",
    "imgIR2 = Image.open(PGMIR2)\n",
    "imgRGB = Image.merge('RGB',(imgIR1,imgIR1,imgIR2))\n",
    "imgRGB.show()"
   ]
  },
  {
   "cell_type": "markdown",
   "id": "bcd7ec27",
   "metadata": {},
   "source": [
    "## 2. 使用numpy讀取PGM檔（自行實做）\n",
    "+ 使用numpy分別謮取兩個頻道的檔案\n",
    "+ 轉換成PIL物件\n",
    "+ 使用merge指令，合成RGB的彩色圖"
   ]
  },
  {
   "cell_type": "code",
   "execution_count": null,
   "id": "ca8eeff8",
   "metadata": {},
   "outputs": [],
   "source": []
  }
 ],
 "metadata": {
  "kernelspec": {
   "display_name": "Python 3 (ipykernel)",
   "language": "python",
   "name": "python3"
  },
  "language_info": {
   "codemirror_mode": {
    "name": "ipython",
    "version": 3
   },
   "file_extension": ".py",
   "mimetype": "text/x-python",
   "name": "python",
   "nbconvert_exporter": "python",
   "pygments_lexer": "ipython3",
   "version": "3.11.3"
  }
 },
 "nbformat": 4,
 "nbformat_minor": 5
}
